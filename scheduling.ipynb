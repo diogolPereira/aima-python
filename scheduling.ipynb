{
 "cells": [
  {
   "cell_type": "markdown",
   "metadata": {},
   "source": [
    "# CONSTRAINT SATISFACTION PROBLEMS (CSP)\n",
    "\n",
    "This IPy notebook uses of the implementations in **csp.py** module provided in the supporting materials of the book* Artificial Intelligence: A Modern Approach*."
   ]
  },
  {
   "cell_type": "code",
   "execution_count": 17,
   "metadata": {},
   "outputs": [],
   "source": [
    "from csp import *\n",
    "# from notebook import psource, plot_NQueens\n",
    "\n",
    "# %matplotlib inline\n",
    "# Hide warnings in the matplotlib sections\n",
    "\n",
    "import math\n",
    "import warnings\n",
    "warnings.filterwarnings(\"ignore\")"
   ]
  },
  {
   "cell_type": "markdown",
   "metadata": {},
   "source": [
    "## Schedules making problem\n",
    "We need to prepare the classes schedules for the next semester, taking into account the following information:\n",
    "* the list of classes;\n",
    "* the list of courses that are in the program of each class;\n",
    "* the professors that are assigned to each course\n",
    "* the available time slots to assign to the classes\n",
    "\n",
    "# Variables\n",
    "* Classes : T1 (MD,IA,PA,SETR), T2(IA,SETR,PDM,ISI), T3(MD,SETR,PDM,PA)\n",
    "* TimeSlots: classroom1(1...20) Online classroom(41...60) 5 days * 4slots per day * 3 classes \n",
    "* Subjects: MD,IA,PA,SETR,PDM,ISI\n",
    "* Professors: John(IA), Rodas(PA,PDM), Serj(ISI,MD) kim (SETR)\n",
    "\n",
    "\n",
    "\n",
    "In the subject name the first digit is the class identifier and the second is the weekly lesson number (Ex: MD12 -> MD -> Subject, 1 -> Class, 2 -> Lesson ) \n"
   ]
  },
  {
   "cell_type": "code",
   "execution_count": 18,
   "metadata": {},
   "outputs": [],
   "source": [
    "# CLASS SCHEDULING\n",
    "\n",
    "# domain\n",
    "dominio =  { 'MD11': (1,2), 'MD12': (3,6),\n",
    "             'MD31': (3,6), 'MD32': (7,9),\n",
    "             'IA11': set(range(1,10)), 'IA12':set(range(11,20)),\n",
    "             'IA21': set(range(1,10)), 'IA22':set(range(9,20)),\n",
    "             'PA11': set(range(1,10)), 'PA12':set(range(11,20)),\n",
    "             'PA31': set(range(1,10)), 'PA32':set(range(11,20)),\n",
    "             'SETR11': set(range(1,10)), 'SETR12':set(range(11,20)),\n",
    "             'SETR21': set(range(1,10)), 'SETR22':set(range(11,20)),\n",
    "             'SETR31': set(range(1,10)), 'SETR32':set(range(11,20)),\n",
    "             'PDM21': set(range(1,10)), 'PDM22':set(range(11,20)),\n",
    "             'PDM31': set(range(1,10)), 'PDM32':set(range(11,20)),\n",
    "             'ISI': set(range(1,13)), 'ISI2' : set(range(14,20)),\n",
    "             \n",
    "            }\n"
   ]
  },
  {
   "cell_type": "markdown",
   "metadata": {},
   "source": [
    "\n",
    "# Constraint\n",
    "\n",
    "* Only one course can be assigned For each class/time slot\n",
    "* Only one classroom can be assigned For each class/time slot\n",
    "* Each professor can not teach more than one lesson in each time slot and no more than 3 lessons in the same day\n",
    "* Each course has two lessons per week\n",
    " \n"
   ]
  },
  {
   "cell_type": "code",
   "execution_count": 19,
   "metadata": {},
   "outputs": [],
   "source": [
    "\n",
    "# constraints\n",
    "restricoes =   [\n",
    "                # Classes\n",
    "                Constraint(('MD11','MD12','IA11','IA12','PA11','PA12','SETR11','SETR12'), all_diff_constraint),\n",
    "                Constraint(('ISI','ISI2','IA21','IA22','PDM21','PDM22','SETR21','SETR22'), all_diff_constraint),\n",
    "                Constraint(('MD31','MD32','PA31','PA32','PDM31','PDM32','SETR31','SETR32'), all_diff_constraint),\n",
    "                # Profs\n",
    "                Constraint(('PA11','PA12','PA31','PA32','PDM21','PDM22','PDM31','PDM32'), all_diff_constraint),\n",
    "                Constraint(('MD11','MD12','MD31','MD32','ISI','ISI2'), all_diff_constraint)\n",
    "                Constraint(('SETR11','MD12','MD31','MD32','ISI','ISI2'), all_diff_constraint)\n",
    "                Constraint(('MD11','MD12','MD31','MD32','ISI','ISI2'), all_diff_constraint)\n",
    "                Constraint(('MD11','MD12','MD31','MD32','ISI','ISI2'), all_diff_constraint)\n",
    "                Constraint(('MD11','MD12','MD31','MD32','ISI','ISI2'), all_diff_constraint)\n",
    "\n",
    "                ]\n"
   ]
  },
  {
   "cell_type": "markdown",
   "metadata": {},
   "source": [
    "\n",
    " \n"
   ]
  },
  {
   "cell_type": "code",
   "execution_count": 20,
   "metadata": {},
   "outputs": [
    {
     "name": "stdout",
     "output_type": "stream",
     "text": [
      "{'PDM22', 'IA12', 'IA22', 'ISI', 'SETR21', 'PA12', 'MD32', 'MD12', 'PDM21', 'SETR11', 'IA21', 'PA32', 'ISI2', 'IA11', 'PA31', 'SETR31', 'MD11', 'SETR22', 'SETR12', 'PDM31', 'MD31', 'SETR32', 'PDM32', 'PA11'}\n"
     ]
    },
    {
     "data": {
      "text/plain": "{'MD11': 2,\n 'MD12': 3,\n 'MD31': 6,\n 'MD32': 9,\n 'IA11': 4,\n 'IA12': 11,\n 'IA21': 4,\n 'IA22': 9,\n 'PA11': 9,\n 'PA12': 12,\n 'PA31': 1,\n 'PA32': 13,\n 'SETR11': 1,\n 'SETR12': 13,\n 'SETR21': 2,\n 'SETR22': 12,\n 'SETR31': 2,\n 'SETR32': 11,\n 'PDM21': 3,\n 'PDM22': 11,\n 'PDM31': 8,\n 'PDM32': 16,\n 'ISI': 1,\n 'ISI2': 16}"
     },
     "execution_count": 20,
     "metadata": {},
     "output_type": "execute_result"
    }
   ],
   "source": [
    "\n",
    "# Class scheduling -- Exec 40s\n",
    "class_scheduling = NaryCSP(dominio, restricoes)\n",
    "\n",
    "# print variables\n",
    "print(class_scheduling.variables)\n",
    "\n",
    "ac_solver(class_scheduling, arc_heuristic=sat_up)"
   ]
  }
 ],
 "metadata": {
  "kernelspec": {
   "display_name": "Python 3.10.8 64-bit",
   "name": "python3108jvsc74a57bd0aee8b7b246df8f9039afb4144a1f6fd8d2ca17a180786b69acc140d282b71a49"
  },
  "language_info": {
   "codemirror_mode": {
    "name": "ipython",
    "version": 3
   },
   "file_extension": ".py",
   "mimetype": "text/x-python",
   "name": "python",
   "nbconvert_exporter": "python",
   "pygments_lexer": "ipython3",
   "version": "3.10.8"
  },
  "metadata": {
   "interpreter": {
    "hash": "aee8b7b246df8f9039afb4144a1f6fd8d2ca17a180786b69acc140d282b71a49"
   }
  },
  "pycharm": {
   "stem_cell": {
    "cell_type": "raw",
    "metadata": {
     "collapsed": false
    },
    "source": []
   }
  },
  "vscode": {
   "interpreter": {
    "hash": "607079afe3a2a2d35ed9965cd3a5fc45cd7e1ba906577a56395d9b6815374bc5"
   }
  }
 },
 "nbformat": 4,
 "nbformat_minor": 1
}