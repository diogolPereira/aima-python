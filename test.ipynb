{
 "cells": [
  {
   "cell_type": "markdown",
   "metadata": {},
   "source": [
    "# CONSTRAINT SATISFACTION PROBLEMS (CSP)\n",
    "\n",
    "This IPy notebook uses of the implementations in **csp.py** module provided in the supporting materials of the book* Artificial Intelligence: A Modern Approach*."
   ]
  },
  {
   "cell_type": "code",
   "execution_count": 1,
   "metadata": {},
   "outputs": [],
   "source": [
    "from csp import *\n",
    "# from notebook import psource, plot_NQueens\n",
    "\n",
    "# %matplotlib inline\n",
    "# Hide warnings in the matplotlib sections\n",
    "\n",
    "import math\n",
    "import warnings\n",
    "warnings.filterwarnings(\"ignore\")"
   ]
  },
  {
   "cell_type": "markdown",
   "metadata": {},
   "source": [
    "## Schedules making problem\n",
    "We need to prepare the classes schedules for the next semester, taking into account the following information:\n",
    "* the list of classes;\n",
    "* the list of Subjects that are in the program of each class;\n",
    "* the professors that are assigned to each Subjects\n",
    "* the available time slots to assign to the classes\n",
    "\n",
    "General constraints are applied:\n",
    "* Only one Subjects can be assigned For each class/time slot\n",
    "* Each professor can not teach more than one lesson in each time slot and no more than 3 lessons in the same day\n",
    "* Each Subjects has two lessons per week\n",
    " \n",
    "This demo takes into account 3 classes:\n",
    "* Classes and Subjects:\n",
    "* TimeSlots:\n",
    "* Professors: \n",
    "* Classrooms: \n",
    "\n",
    "\n",
    "\n",
    "# Variables\n",
    "* Classes : T1 (MD,IA,PA,SETR), T2(IA,SETR,PDM,ISI)\n",
    "* TimeSlots: (1...20) 5 days * 4slots per day\n",
    "* Subjects: MD,IA,PA,SETR,PDM,ISI\n",
    "* Professors: John(IA), Rodas(PA,PDM), Serj(ISI,MD), kim (SETR)"
   ]
  },
  {
   "cell_type": "code",
   "execution_count": 24,
   "metadata": {},
   "outputs": [
    {
     "name": "stdout",
     "output_type": "stream",
     "text": [
      "{'ISI', 'SETR11', 'IA12', 'PDM', 'PA2', 'MD', 'SETR12', 'IA11', 'SETR21', 'PA', 'IA22', 'MD2', 'PDM2', 'ISI2', 'IA21', 'SETR22'}\n"
     ]
    },
    {
     "data": {
      "text/plain": "{'MD': 2,\n 'MD2': 6,\n 'IA11': 3,\n 'IA12': 11,\n 'IA21': 4,\n 'IA22': 9,\n 'PA': 4,\n 'PA2': 12,\n 'SETR11': 1,\n 'SETR12': 13,\n 'SETR21': 3,\n 'SETR22': 12,\n 'PDM': 2,\n 'PDM2': 11,\n 'ISI': 1,\n 'ISI2': 16}"
     },
     "execution_count": 24,
     "metadata": {},
     "output_type": "execute_result"
    }
   ],
   "source": [
    "# CLASS SCHEDULING\n",
    "\n",
    "# Schedules\n",
    "\n",
    "# domain\n",
    "dominio =  { 'MD': (1,2),\n",
    "             'MD2': (3,6),\n",
    "             'IA11': set(range(1,10)), 'IA12':set(range(11,20)),\n",
    "             'IA21': set(range(1,8)), 'IA22':set(range(9,20)),\n",
    "             'PA': set(range(1,10)), 'PA2':set(range(11,20)),\n",
    "             'SETR11': set(range(1,10)), 'SETR12':set(range(11,20)),\n",
    "             'SETR21': set(range(1,10)), 'SETR22':set(range(11,20)),\n",
    "             'PDM': set(range(1,10)), 'PDM2':set(range(11,20)),\n",
    "             'ISI': set(range(1,13)), 'ISI2' : set(range(14,20)) \n",
    "            }\n",
    "\n",
    "# constraints\n",
    "restricoes =   [\n",
    "                # Classes\n",
    "                Constraint(('MD','MD2','IA11','IA12','PA','PA2','SETR11','SETR12'), all_diff_constraint), # Turma 1 \n",
    "                Constraint(('ISI','ISI2','IA21','IA22','PDM','PDM2','SETR21','SETR22'), all_diff_constraint),\n",
    "                # Profs\n",
    "                Constraint(('PA','PA2','PDM','PDM2'), all_diff_constraint), # Teacher Rodas\n",
    "                Constraint(('MD','MD2','ISI','ISI2'), all_diff_constraint) # Teacher Serj\n",
    "\n",
    "                ]\n",
    "\n",
    "# Class scheduling -- Exec 40s\n",
    "class_scheduling = NaryCSP(dominio, restricoes)\n",
    "\n",
    "# print variables\n",
    "print(class_scheduling.variables)\n",
    "\n",
    "# Result\n",
    "ac_solver(class_scheduling, arc_heuristic=sat_up)"
   ]
  }
 ],
 "metadata": {
  "kernelspec": {
   "display_name": "Python 3.10.8 64-bit",
   "name": "python3108jvsc74a57bd0aee8b7b246df8f9039afb4144a1f6fd8d2ca17a180786b69acc140d282b71a49"
  },
  "language_info": {
   "codemirror_mode": {
    "name": "ipython",
    "version": 3
   },
   "file_extension": ".py",
   "mimetype": "text/x-python",
   "name": "python",
   "nbconvert_exporter": "python",
   "pygments_lexer": "ipython3",
   "version": "3.10.8"
  },
  "metadata": {
   "interpreter": {
    "hash": "aee8b7b246df8f9039afb4144a1f6fd8d2ca17a180786b69acc140d282b71a49"
   }
  },
  "pycharm": {
   "stem_cell": {
    "cell_type": "raw",
    "metadata": {
     "collapsed": false
    },
    "source": []
   }
  },
  "vscode": {
   "interpreter": {
    "hash": "607079afe3a2a2d35ed9965cd3a5fc45cd7e1ba906577a56395d9b6815374bc5"
   }
  }
 },
 "nbformat": 4,
 "nbformat_minor": 1
}